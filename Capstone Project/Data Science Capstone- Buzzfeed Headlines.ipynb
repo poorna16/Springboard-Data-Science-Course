{
 "cells": [
  {
   "cell_type": "code",
   "execution_count": 3,
   "metadata": {
    "collapsed": true
   },
   "outputs": [],
   "source": [
    "import requests"
   ]
  },
  {
   "cell_type": "code",
   "execution_count": 4,
   "metadata": {
    "collapsed": false
   },
   "outputs": [
    {
     "data": {
      "text/plain": [
       "'Can You Get A Perfect Score On This Timed Disney Quiz?\\n'"
      ]
     },
     "execution_count": 4,
     "metadata": {},
     "output_type": "execute_result"
    }
   ],
   "source": [
    "resp = requests.get('https://newsapi.org/v1/articles?source=buzzfeed&sortBy=top&apikey=99708cf2fee140a78cd1305413ddccf0')\n",
    "x = resp.json()\n",
    "f = open('buzzfeed.txt','a+')\n",
    "\n",
    "\n",
    "articles = x['articles']\n",
    "for article in articles:\n",
    "    title = article['title']\n",
    "    f.write(title)\n",
    "    f.write('\\n')\n",
    "\n",
    "\n",
    "f.close()\n",
    "f = open('buzzfeed.txt','r')\n",
    "f.readline()\n",
    "\n",
    "\n",
    "\n",
    "    \n",
    "\n",
    "\n"
   ]
  },
  {
   "cell_type": "code",
   "execution_count": 5,
   "metadata": {
    "collapsed": false
   },
   "outputs": [
    {
     "data": {
      "text/plain": [
       "[u'Can You Get A Perfect Score On This Timed Disney Quiz?',\n",
       " u\"A Puppet Tried To Slide Into A Woman's DMs With Dick Pics And People Are Very, Very Confused\",\n",
       " u\"Plan A Wedding And We'll Reveal Your Age And Relationship Status\",\n",
       " u'This Dude Just Took Hot Dogs To The Damn Next Level',\n",
       " u'Can You Make It To The End Of These Increasingly Fucked-Up Images?',\n",
       " u\"This Is The Hardest, Most Annoying Vocabulary Quiz You'll Take\",\n",
       " u'Your Makeup Choices Will Reveal What Era You Actually Belong In',\n",
       " u'22 Slightly Odd Things You Never Noticed In \"Twilight\"',\n",
       " u'Are You More Dumpster, Fire, Or Dumpster Fire?',\n",
       " u'22 Things You Know If You Get Ready In 15 Minutes Or Less']"
      ]
     },
     "execution_count": 5,
     "metadata": {},
     "output_type": "execute_result"
    }
   ],
   "source": [
    "resp = requests.get('https://newsapi.org/v1/articles?source=buzzfeed&sortBy=top&apikey=99708cf2fee140a78cd1305413ddccf0')\n",
    "x = resp.json()\n",
    "buzz = []\n",
    "master_list = []\n",
    "\n",
    "\n",
    "articles = x['articles']\n",
    "for article in articles:\n",
    "    title = article['title']\n",
    "    buzz.append(title)\n",
    "    \n",
    "buzz\n"
   ]
  },
  {
   "cell_type": "code",
   "execution_count": null,
   "metadata": {
    "collapsed": true
   },
   "outputs": [],
   "source": []
  }
 ],
 "metadata": {
  "kernelspec": {
   "display_name": "Python 2",
   "language": "python",
   "name": "python2"
  },
  "language_info": {
   "codemirror_mode": {
    "name": "ipython",
    "version": 2
   },
   "file_extension": ".py",
   "mimetype": "text/x-python",
   "name": "python",
   "nbconvert_exporter": "python",
   "pygments_lexer": "ipython2",
   "version": "2.7.11"
  }
 },
 "nbformat": 4,
 "nbformat_minor": 0
}
