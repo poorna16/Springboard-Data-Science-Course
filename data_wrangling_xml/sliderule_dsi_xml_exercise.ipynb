{
 "cells": [
  {
   "cell_type": "markdown",
   "metadata": {},
   "source": [
    "# XML example and exercise\n",
    "****\n",
    "+ study examples of accessing nodes in XML tree structure  \n",
    "+ work on exercise to be completed and submitted\n",
    "****\n",
    "+ reference: https://docs.python.org/2.7/library/xml.etree.elementtree.html\n",
    "+ data source: http://www.dbis.informatik.uni-goettingen.de/Mondial\n",
    "****"
   ]
  },
  {
   "cell_type": "code",
   "execution_count": 29,
   "metadata": {
    "collapsed": true
   },
   "outputs": [],
   "source": [
    "from xml.etree import ElementTree as ET\n",
    "import pandas as pd"
   ]
  },
  {
   "cell_type": "markdown",
   "metadata": {},
   "source": [
    "## XML example\n",
    "\n",
    "+ for details about tree traversal and iterators, see https://docs.python.org/2.7/library/xml.etree.elementtree.html"
   ]
  },
  {
   "cell_type": "code",
   "execution_count": 30,
   "metadata": {
    "collapsed": true
   },
   "outputs": [],
   "source": [
    "document_tree = ET.parse( './data/mondial_database_less.xml' )"
   ]
  },
  {
   "cell_type": "code",
   "execution_count": 31,
   "metadata": {
    "collapsed": false
   },
   "outputs": [
    {
     "name": "stdout",
     "output_type": "stream",
     "text": [
      "Albania\n",
      "Greece\n",
      "Macedonia\n",
      "Serbia\n",
      "Montenegro\n",
      "Kosovo\n",
      "Andorra\n"
     ]
    }
   ],
   "source": [
    "# print names of all countries\n",
    "for child in document_tree.getroot():\n",
    "    print child.find('name').text"
   ]
  },
  {
   "cell_type": "code",
   "execution_count": 32,
   "metadata": {
    "collapsed": false
   },
   "outputs": [
    {
     "name": "stdout",
     "output_type": "stream",
     "text": [
      "* Albania: Tirana, Shkodër, Durrës, Vlorë, Elbasan, Korçë\n",
      "* Greece: Komotini, Kavala, Athina, Peiraias, Peristeri, Acharnes, Patra, Kozani, Kerkyra, Ioannina, Thessaloniki, Iraklio, Chania, Ermoupoli, Rhodes, Tripoli, Lamia, Chalkida, Larissa, Volos, Mytilini, Karyes\n",
      "* Macedonia: Skopje, Kumanovo\n",
      "* Serbia: Beograd, Novi Sad, Niš\n",
      "* Montenegro: Podgorica\n",
      "* Kosovo: Prishtine\n",
      "* Andorra: Andorra la Vella\n"
     ]
    }
   ],
   "source": [
    "# print names of all countries and their cities\n",
    "for element in document_tree.iterfind('country'):\n",
    "    print '* ' + element.find('name').text + ':',\n",
    "    capitals_string = ''\n",
    "    for subelement in element.getiterator('city'):\n",
    "        capitals_string += subelement.find('name').text + ', '\n",
    "    print capitals_string[:-2]"
   ]
  },
  {
   "cell_type": "markdown",
   "metadata": {},
   "source": [
    "****\n",
    "## XML exercise\n",
    "\n",
    "Using data in 'data/mondial_database.xml', the examples above, and refering to https://docs.python.org/2.7/library/xml.etree.elementtree.html, find\n",
    "\n",
    "1. 10 countries with the lowest infant mortality rates\n",
    "2. 10 cities with the largest population\n",
    "3. 10 ethnic groups with the largest overall populations (sum of best/latest estimates over all countries)\n",
    "4. name and country of a) longest river, b) largest lake and c) airport at highest elevation"
   ]
  },
  {
   "cell_type": "markdown",
   "metadata": {},
   "source": [
    "# 1. 10 countries with the lowest infant mortality rates"
   ]
  },
  {
   "cell_type": "code",
   "execution_count": 33,
   "metadata": {
    "collapsed": false
   },
   "outputs": [
    {
     "data": {
      "text/html": [
       "<div>\n",
       "<table border=\"1\" class=\"dataframe\">\n",
       "  <thead>\n",
       "    <tr style=\"text-align: right;\">\n",
       "      <th></th>\n",
       "      <th>country</th>\n",
       "      <th>mortality</th>\n",
       "    </tr>\n",
       "  </thead>\n",
       "  <tbody>\n",
       "    <tr>\n",
       "      <th>35</th>\n",
       "      <td>Monaco</td>\n",
       "      <td>1.81</td>\n",
       "    </tr>\n",
       "    <tr>\n",
       "      <th>210</th>\n",
       "      <td>Japan</td>\n",
       "      <td>2.13</td>\n",
       "    </tr>\n",
       "    <tr>\n",
       "      <th>73</th>\n",
       "      <td>Norway</td>\n",
       "      <td>2.48</td>\n",
       "    </tr>\n",
       "    <tr>\n",
       "      <th>66</th>\n",
       "      <td>Bermuda</td>\n",
       "      <td>2.48</td>\n",
       "    </tr>\n",
       "    <tr>\n",
       "      <th>78</th>\n",
       "      <td>Singapore</td>\n",
       "      <td>2.53</td>\n",
       "    </tr>\n",
       "    <tr>\n",
       "      <th>108</th>\n",
       "      <td>Sweden</td>\n",
       "      <td>2.60</td>\n",
       "    </tr>\n",
       "    <tr>\n",
       "      <th>57</th>\n",
       "      <td>Czech Republic</td>\n",
       "      <td>2.63</td>\n",
       "    </tr>\n",
       "    <tr>\n",
       "      <th>145</th>\n",
       "      <td>Hong Kong</td>\n",
       "      <td>2.73</td>\n",
       "    </tr>\n",
       "    <tr>\n",
       "      <th>54</th>\n",
       "      <td>Macao</td>\n",
       "      <td>3.13</td>\n",
       "    </tr>\n",
       "    <tr>\n",
       "      <th>188</th>\n",
       "      <td>Iceland</td>\n",
       "      <td>3.15</td>\n",
       "    </tr>\n",
       "  </tbody>\n",
       "</table>\n",
       "</div>"
      ],
      "text/plain": [
       "            country  mortality\n",
       "35           Monaco       1.81\n",
       "210           Japan       2.13\n",
       "73           Norway       2.48\n",
       "66          Bermuda       2.48\n",
       "78        Singapore       2.53\n",
       "108          Sweden       2.60\n",
       "57   Czech Republic       2.63\n",
       "145       Hong Kong       2.73\n",
       "54            Macao       3.13\n",
       "188         Iceland       3.15"
      ]
     },
     "execution_count": 33,
     "metadata": {},
     "output_type": "execute_result"
    }
   ],
   "source": [
    "#Create dictionary with countries and infant mortality rates\n",
    "document = ET.parse( './data/mondial_database.xml' )\n",
    "root = document.getroot()\n",
    "infant_mortality = {}\n",
    "for country in root.iterfind('country'):\n",
    "    name = country.find('name').text\n",
    "    for im in country.iterfind('infant_mortality'):\n",
    "        if im is not None:\n",
    "            mor = im.text\n",
    "            infant_mortality[name] = float(mor)\n",
    "\n",
    "#Convert dictionary to pandas dataframe \n",
    "x = pd.DataFrame([[key,value] for key,value in infant_mortality.iteritems()],columns=[\"country\",\"mortality\"])\n",
    "x.sort_values('mortality').head(10)"
   ]
  },
  {
   "cell_type": "markdown",
   "metadata": {
    "collapsed": true
   },
   "source": [
    "# 2. 10 cities with the largest population"
   ]
  },
  {
   "cell_type": "code",
   "execution_count": 34,
   "metadata": {
    "collapsed": false
   },
   "outputs": [
    {
     "data": {
      "text/html": [
       "<div>\n",
       "<table border=\"1\" class=\"dataframe\">\n",
       "  <thead>\n",
       "    <tr style=\"text-align: right;\">\n",
       "      <th></th>\n",
       "      <th>city</th>\n",
       "      <th>pop</th>\n",
       "    </tr>\n",
       "  </thead>\n",
       "  <tbody>\n",
       "    <tr>\n",
       "      <th>318</th>\n",
       "      <td>Seoul</td>\n",
       "      <td>10229262</td>\n",
       "    </tr>\n",
       "    <tr>\n",
       "      <th>45</th>\n",
       "      <td>Hong Kong</td>\n",
       "      <td>7055071</td>\n",
       "    </tr>\n",
       "    <tr>\n",
       "      <th>376</th>\n",
       "      <td>Al Qahirah</td>\n",
       "      <td>6053000</td>\n",
       "    </tr>\n",
       "    <tr>\n",
       "      <th>94</th>\n",
       "      <td>Bangkok</td>\n",
       "      <td>5876000</td>\n",
       "    </tr>\n",
       "    <tr>\n",
       "      <th>8</th>\n",
       "      <td>Ho Chi Minh</td>\n",
       "      <td>3924435</td>\n",
       "    </tr>\n",
       "    <tr>\n",
       "      <th>335</th>\n",
       "      <td>Busan</td>\n",
       "      <td>3813814</td>\n",
       "    </tr>\n",
       "    <tr>\n",
       "      <th>75</th>\n",
       "      <td>New Taipei</td>\n",
       "      <td>3722082</td>\n",
       "    </tr>\n",
       "    <tr>\n",
       "      <th>230</th>\n",
       "      <td>Hanoi</td>\n",
       "      <td>3056146</td>\n",
       "    </tr>\n",
       "    <tr>\n",
       "      <th>287</th>\n",
       "      <td>Al Iskandariyah</td>\n",
       "      <td>2917000</td>\n",
       "    </tr>\n",
       "    <tr>\n",
       "      <th>102</th>\n",
       "      <td>Taipei</td>\n",
       "      <td>2626138</td>\n",
       "    </tr>\n",
       "  </tbody>\n",
       "</table>\n",
       "</div>"
      ],
      "text/plain": [
       "                city       pop\n",
       "318            Seoul  10229262\n",
       "45         Hong Kong   7055071\n",
       "376       Al Qahirah   6053000\n",
       "94           Bangkok   5876000\n",
       "8        Ho Chi Minh   3924435\n",
       "335            Busan   3813814\n",
       "75        New Taipei   3722082\n",
       "230            Hanoi   3056146\n",
       "287  Al Iskandariyah   2917000\n",
       "102           Taipei   2626138"
      ]
     },
     "execution_count": 34,
     "metadata": {},
     "output_type": "execute_result"
    }
   ],
   "source": [
    "#create dictionary with country and city populations\n",
    "\n",
    "city_pop = {}\n",
    "for country in root.iterfind('country'):\n",
    "    for city in country.iterfind('city'):\n",
    "        if city is not None:\n",
    "            name = city.find('name').text\n",
    "            if city.find('population') is not None:\n",
    "                pop = city.find('population').text\n",
    "                city_pop[name] = float(pop)\n",
    "#create pandas dataframe\n",
    "\n",
    "pops = pd.DataFrame([[key,value] for key,value in city_pop.iteritems()],columns=[\"city\",\"pop\"])\n",
    "pops.sort_values('pop',ascending=False).head(10)"
   ]
  },
  {
   "cell_type": "markdown",
   "metadata": {
    "collapsed": true
   },
   "source": [
    "# 3. 10 ethnic groups with the largest overall population"
   ]
  },
  {
   "cell_type": "code",
   "execution_count": 35,
   "metadata": {
    "collapsed": false
   },
   "outputs": [
    {
     "data": {
      "text/plain": [
       "Ethnicity\n",
       "Han Chinese    4.975551e+08\n",
       "European       1.928658e+08\n",
       "Indo-Aryan     1.716454e+08\n",
       "Russian        9.275844e+07\n",
       "African        8.632937e+07\n",
       "Japanese       8.170627e+07\n",
       "German         6.623219e+07\n",
       "Dravidian      5.959908e+07\n",
       "English        4.231499e+07\n",
       "Mestizo        3.554233e+07\n",
       "Name: EthnicityPopulation, dtype: float64"
      ]
     },
     "execution_count": 35,
     "metadata": {},
     "output_type": "execute_result"
    }
   ],
   "source": [
    "#Create a list of lists for each ethnic group in each country\n",
    "ethnic_groups = []\n",
    "for country in root.iterfind('country'):\n",
    "    name = country.find('name').text\n",
    "    pop = country.find('population').text\n",
    "    for ethnicity in country.findall('ethnicgroup'):\n",
    "        x = [name, float(pop), ethnicity.text, float(ethnicity.get('percentage'))]\n",
    "        ethnic_groups.append(x)\n",
    "ethnic_groups \n",
    "\n",
    "#Convert list of lists to dataframe\n",
    "eg = pd.DataFrame(ethnic_groups)\n",
    "cols = ['Country','Population','Ethnicity','Percentage']\n",
    "eg.columns = cols\n",
    "\n",
    "#Find population of ethnic groups\n",
    "eg['Fraction'] = eg.Percentage/100\n",
    "eg['EthnicityPopulation'] = eg.Fraction*eg.Population\n",
    "\n",
    "#Find groups with largest population using groupby\n",
    "x = eg.groupby(['Ethnicity'])\n",
    "y = x.EthnicityPopulation.sum()\n",
    "y.sort_values(ascending=False).head(10)"
   ]
  },
  {
   "cell_type": "markdown",
   "metadata": {
    "collapsed": true
   },
   "source": [
    "# 4. Name and Country of a longest river\n"
   ]
  },
  {
   "cell_type": "code",
   "execution_count": 72,
   "metadata": {
    "collapsed": false
   },
   "outputs": [
    {
     "name": "stdout",
     "output_type": "stream",
     "text": [
      "The longest river is the Amazonas in Colombia and it is 6448.0 km\n"
     ]
    },
    {
     "name": "stderr",
     "output_type": "stream",
     "text": [
      "C:\\Users\\firstname.lastname\\Anaconda2\\lib\\site-packages\\ipykernel\\__main__.py:15: FutureWarning: sort(columns=....) is deprecated, use sort_values(by=.....)\n"
     ]
    }
   ],
   "source": [
    "\n",
    "#Get a list of lists of rivers with their name, country code, and length\n",
    "rivers = [] \n",
    "for river in root.iterfind('river'):\n",
    "    name = river.find('name').text\n",
    "    if river.get('country') is not None:\n",
    "        country = river.get('country')\n",
    "    if river.find('length') is not None:\n",
    "        length = float(river.find('length').text)\n",
    "    river = [name, country, length]\n",
    "    rivers.append(river)\n",
    "\n",
    "#Convert list of lists to dataframe and then sort the data frame based on length of river\n",
    "rivers_df = pd.DataFrame(rivers, columns=['river','country','length'])\n",
    "longest_rivers = rivers_df.sort('length',ascending=False)\n",
    "\n",
    "#Find the longest river and the country code of that river\n",
    "river_code = longest_rivers.iloc[0][1]\n",
    "if len(river_code) > 3:\n",
    "    river_code = river_code[0:2]\n",
    "\n",
    "#Match the country code of the longest river to the actual country\n",
    "for country in root.iterfind('country'):\n",
    "    code = country.get('car_code')\n",
    "    if code == river_code:\n",
    "        code_country = country.find('name').text\n",
    "\n",
    "print 'The longest river is the ' + str(longest_rivers.iloc[0][0]) + ' in ' + str(code_country) + ' and it is ' + str(longest_rivers.iloc[0][2]) + ' km'\n",
    "\n",
    "    \n",
    "    \n",
    "    \n",
    "        \n",
    "       \n",
    "    "
   ]
  },
  {
   "cell_type": "markdown",
   "metadata": {},
   "source": [
    "## Name and Country of the largest lake by depth"
   ]
  },
  {
   "cell_type": "code",
   "execution_count": 92,
   "metadata": {
    "collapsed": false
   },
   "outputs": [
    {
     "name": "stdout",
     "output_type": "stream",
     "text": [
      "The largest lake is the Ozero Baikal in Russia and it is 1637.0 m\n"
     ]
    }
   ],
   "source": [
    "lakes = [] \n",
    "for lake in root.iterfind('lake'):\n",
    "    name = lake.find('name').text\n",
    "    if lake.get('country') is not None:\n",
    "        country = lake.get('country')\n",
    "    if lake.find('depth') is not None:\n",
    "        depth = float(lake.find('depth').text)\n",
    "    lake = [name, country, depth]\n",
    "    lakes.append(lake)\n",
    "\n",
    "lakes_df = pd.DataFrame(lakes, columns=['lake','country','depth'])\n",
    "largest_lakes = lakes_df.sort_values('depth',ascending=False)\n",
    "\n",
    "lake_code = largest_lakes.iloc[0][1]\n",
    "if len(lake_code) > 3:\n",
    "    lake_code = lake_code[0:2]\n",
    "else:\n",
    "    lake_code = largest_lakes.iloc[0][1]\n",
    "\n",
    "#Match the country code of the longest river to the actual country\n",
    "for country in root.iterfind('country'):\n",
    "    code = country.get('car_code')\n",
    "    if code == lake_code:\n",
    "        code_country = country.find('name').text\n",
    "\n",
    "print 'The largest lake is the ' + str(largest_lakes.iloc[0][0]) + ' in ' + str(code_country) + ' and it is ' + str(largest_lakes.iloc[0][2]) + ' m'\n",
    "\n",
    "    \n",
    "    \n",
    "    \n",
    "        \n",
    "       \n",
    "\n"
   ]
  },
  {
   "cell_type": "markdown",
   "metadata": {},
   "source": [
    "## Name and country of airport at the highest elevation"
   ]
  },
  {
   "cell_type": "code",
   "execution_count": 91,
   "metadata": {
    "collapsed": false
   },
   "outputs": [
    {
     "name": "stdout",
     "output_type": "stream",
     "text": [
      "The highest airport is El Alto Intl in Bolivia and it is 4063 m\n"
     ]
    }
   ],
   "source": [
    "airports = [] \n",
    "for airport in root.iterfind('airport'):\n",
    "    name = airport.find('name').text\n",
    "    if airport.get('country') is not None:\n",
    "        country = airport.get('country')\n",
    "    if airport.find('elevation').text is not None:\n",
    "        elevation = int(airport.find('elevation').text)\n",
    "        airport = [name, country, elevation]\n",
    "        airports.append(airport)\n",
    "\n",
    "air_df = pd.DataFrame(airports, columns=['airport','country','elevation'])\n",
    "highest_air = air_df.sort_values('elevation',ascending=False)\n",
    "\n",
    "air_code = highest_air.iloc[0][1]\n",
    "if len(air_code) > 3:\n",
    "    air_code = air_code[0:3]\n",
    "else:\n",
    "    air_code = highest_air.iloc[0][1]\n",
    "\n",
    "#Match the country code of the longest river to the actual country\n",
    "for country in root.iterfind('country'):\n",
    "    code = country.get('car_code')\n",
    "    if code == air_code:\n",
    "        code_country = country.find('name').text\n",
    "\n",
    "print 'The highest airport is ' + str(highest_air.iloc[0][0]) + ' in ' + str(code_country) + ' and it is ' + str(highest_air.iloc[0][2]) + ' m'\n",
    "\n",
    "    \n",
    "    \n",
    "    \n",
    "        \n",
    "\n",
    "    "
   ]
  },
  {
   "cell_type": "code",
   "execution_count": 90,
   "metadata": {
    "collapsed": false
   },
   "outputs": [
    {
     "data": {
      "text/plain": [
       "airport      El Alto Intl\n",
       "country               BOL\n",
       "elevation            4063\n",
       "Name: 80, dtype: object"
      ]
     },
     "execution_count": 90,
     "metadata": {},
     "output_type": "execute_result"
    }
   ],
   "source": []
  },
  {
   "cell_type": "code",
   "execution_count": null,
   "metadata": {
    "collapsed": true
   },
   "outputs": [],
   "source": []
  }
 ],
 "metadata": {
  "kernelspec": {
   "display_name": "Python 2",
   "language": "python",
   "name": "python2"
  },
  "language_info": {
   "codemirror_mode": {
    "name": "ipython",
    "version": 2
   },
   "file_extension": ".py",
   "mimetype": "text/x-python",
   "name": "python",
   "nbconvert_exporter": "python",
   "pygments_lexer": "ipython2",
   "version": "2.7.11"
  }
 },
 "nbformat": 4,
 "nbformat_minor": 0
}
