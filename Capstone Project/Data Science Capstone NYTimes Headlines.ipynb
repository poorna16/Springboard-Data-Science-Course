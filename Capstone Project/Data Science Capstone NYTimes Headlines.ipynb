{
 "cells": [
  {
   "cell_type": "code",
   "execution_count": 4,
   "metadata": {
    "collapsed": false
   },
   "outputs": [],
   "source": [
    "from nytimesarticle import articleAPI\n",
    "api = articleAPI('2462ecddebb043db8fce29ca0d9b9b66')\n",
    "from IPython.core.debugger import Tracer\n",
    "import time\n",
    "import pandas as pd\n",
    "from stop_words import get_stop_words\n",
    "\n",
    "\n",
    "\n",
    "\n",
    "\n",
    "\n",
    "\n",
    "\n"
   ]
  },
  {
   "cell_type": "code",
   "execution_count": 5,
   "metadata": {
    "collapsed": false
   },
   "outputs": [],
   "source": [
    "#Function to parse the results of the API query into a list of dictionaries where each dictionary represents a different article\n",
    "\n",
    "\n",
    "def parser(articles):\n",
    "    news = []\n",
    "    for article in articles['response']['docs']:\n",
    "        dic = {}\n",
    "        dic['date'] = article['pub_date'][0:10]\n",
    "        dic['headline'] = article['headline']['main']\n",
    "        news.append(dic)\n",
    "    return news \n",
    "\n",
    "    \n",
    "\n",
    "    \n",
    "        \n",
    "\n",
    "\n",
    "\n"
   ]
  },
  {
   "cell_type": "code",
   "execution_count": 6,
   "metadata": {
    "collapsed": false
   },
   "outputs": [],
   "source": [
    "# This function performs a search of the NYTimes api for a page range and then returns the articles as a list of dictionaries \n",
    "def get_articles():\n",
    "    headlines = []\n",
    "    for i in range(0,10):\n",
    "        article = api.search(begin_date = 20160101, end_date = 20170212,sort = 'newest',page = str(i), fl = ['headline','pub_date'])\n",
    "        try:\n",
    "            article = parser(article)\n",
    "            headlines += article\n",
    "            time.sleep(1)\n",
    "        except KeyError:\n",
    "            print article\n",
    "    return headlines\n",
    "\n",
    "\n",
    "\n",
    "        \n",
    "\n"
   ]
  },
  {
   "cell_type": "code",
   "execution_count": 14,
   "metadata": {
    "collapsed": false
   },
   "outputs": [
    {
     "data": {
      "text/html": [
       "<div>\n",
       "<table border=\"1\" class=\"dataframe\">\n",
       "  <thead>\n",
       "    <tr style=\"text-align: right;\">\n",
       "      <th></th>\n",
       "      <th>date</th>\n",
       "      <th>headline</th>\n",
       "      <th>Source</th>\n",
       "    </tr>\n",
       "  </thead>\n",
       "  <tbody>\n",
       "    <tr>\n",
       "      <th>0</th>\n",
       "      <td>2017-02-12</td>\n",
       "      <td>G.O.P. Lawmakers Like What They See in Trump. ...</td>\n",
       "      <td>New York Times</td>\n",
       "    </tr>\n",
       "    <tr>\n",
       "      <th>1</th>\n",
       "      <td>2017-02-12</td>\n",
       "      <td>Ball Scores 22 to Lead No. 10 UCLA Past Oregon...</td>\n",
       "      <td>New York Times</td>\n",
       "    </tr>\n",
       "    <tr>\n",
       "      <th>2</th>\n",
       "      <td>2017-02-12</td>\n",
       "      <td>Yen Slips After Trump-Abe Meet, Asian Shares Firm</td>\n",
       "      <td>New York Times</td>\n",
       "    </tr>\n",
       "    <tr>\n",
       "      <th>3</th>\n",
       "      <td>2017-02-12</td>\n",
       "      <td>Turmoil at the National Security Council, From...</td>\n",
       "      <td>New York Times</td>\n",
       "    </tr>\n",
       "    <tr>\n",
       "      <th>4</th>\n",
       "      <td>2017-02-12</td>\n",
       "      <td>Golf Capsules</td>\n",
       "      <td>New York Times</td>\n",
       "    </tr>\n",
       "    <tr>\n",
       "      <th>5</th>\n",
       "      <td>2017-02-12</td>\n",
       "      <td>Asian Tech Titans Take a Page From Trump’s Book</td>\n",
       "      <td>New York Times</td>\n",
       "    </tr>\n",
       "    <tr>\n",
       "      <th>6</th>\n",
       "      <td>2017-02-12</td>\n",
       "      <td>Trump Responds to North Korean Missile Launch ...</td>\n",
       "      <td>New York Times</td>\n",
       "    </tr>\n",
       "    <tr>\n",
       "      <th>7</th>\n",
       "      <td>2017-02-12</td>\n",
       "      <td>Verizon Reintroduces Unlimited Data Plan as Co...</td>\n",
       "      <td>New York Times</td>\n",
       "    </tr>\n",
       "    <tr>\n",
       "      <th>8</th>\n",
       "      <td>2017-02-12</td>\n",
       "      <td>The Grammys Red Carpet 2017</td>\n",
       "      <td>New York Times</td>\n",
       "    </tr>\n",
       "    <tr>\n",
       "      <th>9</th>\n",
       "      <td>2017-02-12</td>\n",
       "      <td>The Grammys Red Carpet 2017</td>\n",
       "      <td>New York Times</td>\n",
       "    </tr>\n",
       "  </tbody>\n",
       "</table>\n",
       "</div>"
      ],
      "text/plain": [
       "         date                                           headline  \\\n",
       "0  2017-02-12  G.O.P. Lawmakers Like What They See in Trump. ...   \n",
       "1  2017-02-12  Ball Scores 22 to Lead No. 10 UCLA Past Oregon...   \n",
       "2  2017-02-12  Yen Slips After Trump-Abe Meet, Asian Shares Firm   \n",
       "3  2017-02-12  Turmoil at the National Security Council, From...   \n",
       "4  2017-02-12                                      Golf Capsules   \n",
       "5  2017-02-12    Asian Tech Titans Take a Page From Trump’s Book   \n",
       "6  2017-02-12  Trump Responds to North Korean Missile Launch ...   \n",
       "7  2017-02-12  Verizon Reintroduces Unlimited Data Plan as Co...   \n",
       "8  2017-02-12                        The Grammys Red Carpet 2017   \n",
       "9  2017-02-12                        The Grammys Red Carpet 2017   \n",
       "\n",
       "           Source  \n",
       "0  New York Times  \n",
       "1  New York Times  \n",
       "2  New York Times  \n",
       "3  New York Times  \n",
       "4  New York Times  \n",
       "5  New York Times  \n",
       "6  New York Times  \n",
       "7  New York Times  \n",
       "8  New York Times  \n",
       "9  New York Times  "
      ]
     },
     "execution_count": 14,
     "metadata": {},
     "output_type": "execute_result"
    }
   ],
   "source": [
    "\n",
    "headlines = get_articles()\n",
    "headlines_df = pd.DataFrame(headlines)\n",
    "headlines_df['Source'] = 'New York Times'\n",
    "\n",
    "#General properites of the titles like min, max, and mean title length \n",
    "\n",
    "def headline_properties(headlines_df):\n",
    "    lengths = []\n",
    "    for headline in headlines_df['headline']:\n",
    "        length = len(headline.split())\n",
    "        lengths.append(length)\n",
    "    headlines_df['title length'] = lengths\n",
    "\n",
    "    mean_title_length = headlines_df['title length'].mean()\n",
    "    max_title_length = headlines_df['title length'].max()\n",
    "    min_title_length = headlines_df['title length'].min()\n",
    "    \n",
    "    print 'The mean title length is ' + str(mean_title_length)\n",
    "    print 'The max title length is ' + str(max_title_length)\n",
    "    print 'The min title length is ' + str(min_title_length)\n",
    "\n",
    "    \n",
    "\n",
    "\n",
    "\n",
    "\n",
    "\n",
    "\n",
    "\n",
    "\n",
    "\n",
    "\n",
    "\n",
    "    \n"
   ]
  },
  {
   "cell_type": "code",
   "execution_count": 20,
   "metadata": {
    "collapsed": false
   },
   "outputs": [
    {
     "name": "stderr",
     "output_type": "stream",
     "text": [
      "C:\\Users\\firstname.lastname\\Anaconda2\\lib\\site-packages\\ipykernel\\__main__.py:18: FutureWarning: sort(columns=....) is deprecated, use sort_values(by=.....)\n"
     ]
    }
   ],
   "source": [
    "tot_words = []\n",
    "for headline in headlines_df['headline']:\n",
    "    words = headline.split()\n",
    "    for word in words:\n",
    "        tot_words.append(word)\n",
    "\n",
    "freq_dic = {}\n",
    "stop_words = get_stop_words('en')\n",
    "\n",
    "for word in tot_words:\n",
    "    if (word not in freq_dic) and (word not in stop_words):\n",
    "        freq_dic[word] = 1\n",
    "    elif word in freq_dic:\n",
    "        freq_dic[word] = freq_dic[word] + 1\n",
    "\n",
    "freq_df = pd.DataFrame({\"word\": freq_dic.keys(), \"frequency\": freq_dic.values()})\n",
    "freq_df = freq_df.sort(columns='frequency',ascending = False)\n",
    "\n",
    "    \n",
    "\n",
    "\n",
    "    "
   ]
  },
  {
   "cell_type": "code",
   "execution_count": 22,
   "metadata": {
    "collapsed": false
   },
   "outputs": [
    {
     "data": {
      "text/plain": [
       "array(['New York Times', 'New York Times', 'New York Times',\n",
       "       'New York Times', 'New York Times', 'New York Times',\n",
       "       'New York Times', 'New York Times', 'New York Times',\n",
       "       'New York Times'], dtype=object)"
      ]
     },
     "execution_count": 22,
     "metadata": {},
     "output_type": "execute_result"
    }
   ],
   "source": [
    "samples = headlines_df.head(10)\n",
    "\n",
    "from sklearn.feature_extraction.text import CountVectorizer\n",
    "vectorizer = CountVectorizer(min_df=0,stop_words='english')\n",
    "vectorizer.fit(samples['headline'].values)\n",
    "X = vectorizer.transform(samples['headline'].values)\n",
    "y = samples['Source'].values\n",
    "\n"
   ]
  },
  {
   "cell_type": "code",
   "execution_count": 23,
   "metadata": {
    "collapsed": false
   },
   "outputs": [
    {
     "data": {
      "text/plain": [
       "MultinomialNB(alpha=1.0, class_prior=None, fit_prior=True)"
      ]
     },
     "execution_count": 23,
     "metadata": {},
     "output_type": "execute_result"
    }
   ],
   "source": [
    "from sklearn.naive_bayes import MultinomialNB\n",
    "classifier = MultinomialNB()\n",
    "classifier.fit(X,y)\n",
    "\n",
    "\n",
    "\n",
    "\n",
    "\n",
    "\n",
    "\n",
    "\n",
    "\n"
   ]
  },
  {
   "cell_type": "code",
   "execution_count": null,
   "metadata": {
    "collapsed": true
   },
   "outputs": [],
   "source": [
    "\n"
   ]
  }
 ],
 "metadata": {
  "kernelspec": {
   "display_name": "Python 2",
   "language": "python",
   "name": "python2"
  },
  "language_info": {
   "codemirror_mode": {
    "name": "ipython",
    "version": 2
   },
   "file_extension": ".py",
   "mimetype": "text/x-python",
   "name": "python",
   "nbconvert_exporter": "python",
   "pygments_lexer": "ipython2",
   "version": "2.7.11"
  }
 },
 "nbformat": 4,
 "nbformat_minor": 0
}
